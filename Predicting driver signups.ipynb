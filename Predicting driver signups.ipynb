{
 "cells": [
  {
   "cell_type": "markdown",
   "id": "a5dcc2f9",
   "metadata": {},
   "source": [
    "## The goal of this project is to predict which driver signups are most likely to start driving.\n",
    "\n",
    "Using the driver signup information the goal is to predict whether a signup will start to drive, and offer suggestions to operationalize those insights."
   ]
  },
  {
   "cell_type": "markdown",
   "id": "9ad469d3",
   "metadata": {},
   "source": [
    "## Exploratory Data Analysis (EDA) and Feature Engineering"
   ]
  },
  {
   "cell_type": "code",
   "execution_count": 1,
   "id": "06d871f9",
   "metadata": {},
   "outputs": [],
   "source": [
    "# Import required packages\n",
    "import pandas as pd\n",
    "import numpy as np\n",
    "import matplotlib.pyplot as plt\n",
    "from sklearn.preprocessing import LabelEncoder, StandardScaler\n",
    "from sklearn.model_selection import StratifiedKFold \n",
    "from sklearn.model_selection import cross_val_score\n",
    "from sklearn.model_selection import cross_val_predict\n",
    "import warnings\n",
    "warnings.filterwarnings(\"ignore\")\n",
    "from sklearn.neighbors import KNeighborsClassifier\n",
    "from sklearn.linear_model import LogisticRegression\n",
    "from sklearn.tree import DecisionTreeClassifier\n",
    "from sklearn.ensemble import RandomForestClassifier\n",
    "from sklearn.ensemble import GradientBoostingClassifier\n",
    "from sklearn.model_selection import train_test_split\n",
    "from sklearn.metrics import confusion_matrix, classification_report\n"
   ]
  },
  {
   "cell_type": "code",
   "execution_count": 2,
   "id": "9474fe0c",
   "metadata": {},
   "outputs": [],
   "source": [
    "#Reading the dataset\n",
    "df = pd.read_csv(\"ds_challenge_data.csv\")"
   ]
  },
  {
   "cell_type": "code",
   "execution_count": 3,
   "id": "f9444edf",
   "metadata": {},
   "outputs": [
    {
     "data": {
      "text/html": [
       "<div>\n",
       "<style scoped>\n",
       "    .dataframe tbody tr th:only-of-type {\n",
       "        vertical-align: middle;\n",
       "    }\n",
       "\n",
       "    .dataframe tbody tr th {\n",
       "        vertical-align: top;\n",
       "    }\n",
       "\n",
       "    .dataframe thead th {\n",
       "        text-align: right;\n",
       "    }\n",
       "</style>\n",
       "<table border=\"1\" class=\"dataframe\">\n",
       "  <thead>\n",
       "    <tr style=\"text-align: right;\">\n",
       "      <th></th>\n",
       "      <th>id</th>\n",
       "      <th>city_name</th>\n",
       "      <th>signup_os</th>\n",
       "      <th>signup_channel</th>\n",
       "      <th>signup_date</th>\n",
       "      <th>bgc_date</th>\n",
       "      <th>vehicle_added_date</th>\n",
       "      <th>vehicle_make</th>\n",
       "      <th>vehicle_model</th>\n",
       "      <th>vehicle_year</th>\n",
       "      <th>first_completed_date</th>\n",
       "    </tr>\n",
       "  </thead>\n",
       "  <tbody>\n",
       "    <tr>\n",
       "      <th>0</th>\n",
       "      <td>1</td>\n",
       "      <td>Strark</td>\n",
       "      <td>ios web</td>\n",
       "      <td>Paid</td>\n",
       "      <td>1/2/16</td>\n",
       "      <td>NaN</td>\n",
       "      <td>NaN</td>\n",
       "      <td>NaN</td>\n",
       "      <td>NaN</td>\n",
       "      <td>NaN</td>\n",
       "      <td>NaN</td>\n",
       "    </tr>\n",
       "    <tr>\n",
       "      <th>1</th>\n",
       "      <td>2</td>\n",
       "      <td>Strark</td>\n",
       "      <td>windows</td>\n",
       "      <td>Paid</td>\n",
       "      <td>1/21/16</td>\n",
       "      <td>NaN</td>\n",
       "      <td>NaN</td>\n",
       "      <td>NaN</td>\n",
       "      <td>NaN</td>\n",
       "      <td>NaN</td>\n",
       "      <td>NaN</td>\n",
       "    </tr>\n",
       "    <tr>\n",
       "      <th>2</th>\n",
       "      <td>3</td>\n",
       "      <td>Wrouver</td>\n",
       "      <td>windows</td>\n",
       "      <td>Organic</td>\n",
       "      <td>1/11/16</td>\n",
       "      <td>1/11/16</td>\n",
       "      <td>NaN</td>\n",
       "      <td>NaN</td>\n",
       "      <td>NaN</td>\n",
       "      <td>NaN</td>\n",
       "      <td>NaN</td>\n",
       "    </tr>\n",
       "    <tr>\n",
       "      <th>3</th>\n",
       "      <td>4</td>\n",
       "      <td>Berton</td>\n",
       "      <td>android web</td>\n",
       "      <td>Referral</td>\n",
       "      <td>1/29/16</td>\n",
       "      <td>2/3/16</td>\n",
       "      <td>2/3/16</td>\n",
       "      <td>Toyota</td>\n",
       "      <td>Corolla</td>\n",
       "      <td>2016.0</td>\n",
       "      <td>2/3/16</td>\n",
       "    </tr>\n",
       "    <tr>\n",
       "      <th>4</th>\n",
       "      <td>5</td>\n",
       "      <td>Strark</td>\n",
       "      <td>android web</td>\n",
       "      <td>Referral</td>\n",
       "      <td>1/10/16</td>\n",
       "      <td>1/25/16</td>\n",
       "      <td>1/26/16</td>\n",
       "      <td>Hyundai</td>\n",
       "      <td>Sonata</td>\n",
       "      <td>2016.0</td>\n",
       "      <td>NaN</td>\n",
       "    </tr>\n",
       "  </tbody>\n",
       "</table>\n",
       "</div>"
      ],
      "text/plain": [
       "   id city_name    signup_os signup_channel signup_date bgc_date  \\\n",
       "0   1    Strark      ios web           Paid      1/2/16      NaN   \n",
       "1   2    Strark      windows           Paid     1/21/16      NaN   \n",
       "2   3   Wrouver      windows        Organic     1/11/16  1/11/16   \n",
       "3   4    Berton  android web       Referral     1/29/16   2/3/16   \n",
       "4   5    Strark  android web       Referral     1/10/16  1/25/16   \n",
       "\n",
       "  vehicle_added_date vehicle_make vehicle_model  vehicle_year  \\\n",
       "0                NaN          NaN           NaN           NaN   \n",
       "1                NaN          NaN           NaN           NaN   \n",
       "2                NaN          NaN           NaN           NaN   \n",
       "3             2/3/16       Toyota       Corolla        2016.0   \n",
       "4            1/26/16      Hyundai        Sonata        2016.0   \n",
       "\n",
       "  first_completed_date  \n",
       "0                  NaN  \n",
       "1                  NaN  \n",
       "2                  NaN  \n",
       "3               2/3/16  \n",
       "4                  NaN  "
      ]
     },
     "execution_count": 3,
     "metadata": {},
     "output_type": "execute_result"
    }
   ],
   "source": [
    "#printing first 5 rows\n",
    "df.head()"
   ]
  },
  {
   "cell_type": "code",
   "execution_count": 4,
   "id": "7035de20",
   "metadata": {},
   "outputs": [
    {
     "data": {
      "text/plain": [
       "(54681, 11)"
      ]
     },
     "execution_count": 4,
     "metadata": {},
     "output_type": "execute_result"
    }
   ],
   "source": [
    "#checking the shape of the data\n",
    "df.shape"
   ]
  },
  {
   "cell_type": "code",
   "execution_count": 5,
   "id": "9384da2c",
   "metadata": {
    "scrolled": true
   },
   "outputs": [
    {
     "name": "stdout",
     "output_type": "stream",
     "text": [
      "<class 'pandas.core.frame.DataFrame'>\n",
      "RangeIndex: 54681 entries, 0 to 54680\n",
      "Data columns (total 11 columns):\n",
      " #   Column                Non-Null Count  Dtype  \n",
      "---  ------                --------------  -----  \n",
      " 0   id                    54681 non-null  int64  \n",
      " 1   city_name             54681 non-null  object \n",
      " 2   signup_os             47824 non-null  object \n",
      " 3   signup_channel        54681 non-null  object \n",
      " 4   signup_date           54681 non-null  object \n",
      " 5   bgc_date              32896 non-null  object \n",
      " 6   vehicle_added_date    13134 non-null  object \n",
      " 7   vehicle_make          13223 non-null  object \n",
      " 8   vehicle_model         13223 non-null  object \n",
      " 9   vehicle_year          13223 non-null  float64\n",
      " 10  first_completed_date  6137 non-null   object \n",
      "dtypes: float64(1), int64(1), object(9)\n",
      "memory usage: 4.6+ MB\n"
     ]
    }
   ],
   "source": [
    "#checking the columns\n",
    "df.info()"
   ]
  },
  {
   "cell_type": "markdown",
   "id": "16b26a8c",
   "metadata": {},
   "source": [
    "#### We notice that some of the fields have Nan values"
   ]
  },
  {
   "cell_type": "code",
   "execution_count": 6,
   "id": "dca52ba5",
   "metadata": {},
   "outputs": [],
   "source": [
    "#converting date columns to pandas date time\n",
    "\n",
    "df['signup_date'] = pd.to_datetime(df['signup_date'])\n",
    "df['bgc_date'] = pd.to_datetime(df['bgc_date'])\n",
    "df['vehicle_added_date'] = pd.to_datetime(df['vehicle_added_date'])\n",
    "df['first_completed_date'] = pd.to_datetime(df['first_completed_date'])"
   ]
  },
  {
   "cell_type": "code",
   "execution_count": 7,
   "id": "7dbebf14",
   "metadata": {},
   "outputs": [
    {
     "data": {
      "text/plain": [
       "id                      0.00\n",
       "city_name               0.00\n",
       "signup_os               0.13\n",
       "signup_channel          0.00\n",
       "signup_date             0.00\n",
       "bgc_date                0.40\n",
       "vehicle_added_date      0.76\n",
       "vehicle_make            0.76\n",
       "vehicle_model           0.76\n",
       "vehicle_year            0.76\n",
       "first_completed_date    0.89\n",
       "dtype: float64"
      ]
     },
     "execution_count": 7,
     "metadata": {},
     "output_type": "execute_result"
    }
   ],
   "source": [
    "#printing the amount of Nan values\n",
    "np.round(df.isnull().sum(axis = 0)/len(df),2)"
   ]
  },
  {
   "cell_type": "markdown",
   "id": "6fa6a863",
   "metadata": {},
   "source": [
    "### Observations :"
   ]
  },
  {
   "cell_type": "markdown",
   "id": "de424114",
   "metadata": {},
   "source": [
    "1. There's a significant number of missing values for vehicle_added_date,vehicle_make,vehicle_model,vehicle_year and first_completed_date."
   ]
  },
  {
   "cell_type": "markdown",
   "id": "2b360b82",
   "metadata": {},
   "source": [
    "2. If someone is truely going to become a driver, then there could possibly be no number of missing values in bgc_date,vehicle_make,vehicle_model and vehicle_year"
   ]
  },
  {
   "cell_type": "markdown",
   "id": "f07fa728",
   "metadata": {},
   "source": [
    "3. For rows with several missing values, there should be less tendency to become drivers"
   ]
  },
  {
   "cell_type": "markdown",
   "id": "57b2b10a",
   "metadata": {},
   "source": [
    "4. This is an example of MNAR - missing not at random"
   ]
  },
  {
   "cell_type": "code",
   "execution_count": 8,
   "id": "cab33a90",
   "metadata": {},
   "outputs": [],
   "source": [
    "#creating flags for each of the relevant columns to signify whether there is a missing value or not\n",
    "#Using one flag to represent 'vehicle_make', 'vehicle_model' and 'vehicle_year' since they all have the same number of NaNs.\n",
    "\n",
    "df['signup_os_flag'] = df['signup_os'].notnull().astype(int)\n",
    "df['bgc_date_flag'] = df['bgc_date'].notnull().astype(int)\n",
    "df['vehicle_added_date_flag'] = df['vehicle_added_date'].notnull().astype(int)\n",
    "df['vehicle_make_flag'] = df['vehicle_make'].notnull().astype(int)"
   ]
  },
  {
   "cell_type": "markdown",
   "id": "e6bc0a90",
   "metadata": {},
   "source": [
    "The time difference between signing up and consenting to their background check would be a good indicator of whether or not they are willing to become a driver. Let's compute the time difference between 'bgc_date' and 'signup_date' and assign that to a new feature."
   ]
  },
  {
   "cell_type": "code",
   "execution_count": 9,
   "id": "62bb41df",
   "metadata": {},
   "outputs": [],
   "source": [
    "# Compute time differences between bgc_date and sign_up date, replace negative time differences with 0 and replace NaN values with -1\n",
    "df['signup_bgc_delta'] = (df['bgc_date'] - df['signup_date']) / np.timedelta64(1, 'D')\n",
    "df['signup_bgc_delta'] = df['signup_bgc_delta'].clip(lower=0).fillna(-1)"
   ]
  },
  {
   "cell_type": "markdown",
   "id": "26876bd8",
   "metadata": {},
   "source": [
    "The time difference between Vehicle_added_date and sign_up_date tells how much the person is willing to becaome a driver."
   ]
  },
  {
   "cell_type": "code",
   "execution_count": 10,
   "id": "e4673f6d",
   "metadata": {},
   "outputs": [],
   "source": [
    "# Compute time differences between Vehicle_added_date and sign_up date, replace negative time differences with 0 and replace NaN values with -1\n",
    "df['signup_vehicle_delta'] = (df['vehicle_added_date'] - df['signup_date']) / np.timedelta64(1, 'D')\n",
    "df['signup_vehicle_delta'] = df['signup_vehicle_delta'].clip(lower=0).fillna(-1)"
   ]
  },
  {
   "cell_type": "markdown",
   "id": "c14f6e8a",
   "metadata": {},
   "source": [
    "Any time difference values that were less than 0 days (meaning the vehicle registration or background check was completed before they even signed up) was converted to 0 days. Additionally, we convert the NaN values to -1 since 0 days is reserved to signify eager applicants who signed up and did their background check and/or vehicle registration in the same day.\n"
   ]
  },
  {
   "cell_type": "code",
   "execution_count": 11,
   "id": "d6da1f25",
   "metadata": {},
   "outputs": [
    {
     "name": "stdout",
     "output_type": "stream",
     "text": [
      "id -- 0\n",
      "city_name -- 0\n",
      "signup_os -- 0\n",
      "signup_channel -- 0\n",
      "signup_date -- 0\n",
      "bgc_date -- 0\n",
      "vehicle_added_date -- 0\n",
      "vehicle_make -- 0\n",
      "vehicle_model -- 0\n",
      "vehicle_year -- 4\n"
     ]
    }
   ],
   "source": [
    "#checking if there are any zero elements in the columns.\n",
    "\n",
    "for i in df.columns[:10]:\n",
    "    try:\n",
    "        print(i+' --', df[df[i] == 0][i].count())\n",
    "    except:\n",
    "        print(i+' --', 0)"
   ]
  },
  {
   "cell_type": "markdown",
   "id": "3b0d5023",
   "metadata": {},
   "source": [
    " 'vehicle_year' has 4 rows that are zero,replacing 0 with Nan"
   ]
  },
  {
   "cell_type": "code",
   "execution_count": 12,
   "id": "2f7cb187",
   "metadata": {},
   "outputs": [],
   "source": [
    "df['vehicle_year']=df['vehicle_year'].replace(0, np.NaN)"
   ]
  },
  {
   "cell_type": "code",
   "execution_count": 13,
   "id": "7c645005",
   "metadata": {},
   "outputs": [
    {
     "data": {
      "text/plain": [
       "(array([  11.,   24.,  198.,  601.,  819., 1920., 1158., 1824., 3106.,\n",
       "        3558.]),\n",
       " array([1995. , 1997.2, 1999.4, 2001.6, 2003.8, 2006. , 2008.2, 2010.4,\n",
       "        2012.6, 2014.8, 2017. ]),\n",
       " <BarContainer object of 10 artists>)"
      ]
     },
     "execution_count": 13,
     "metadata": {},
     "output_type": "execute_result"
    },
    {
     "data": {
      "image/png": "[encoded data removed]",
      "text/plain": [
       "<Figure size 432x288 with 1 Axes>"
      ]
     },
     "metadata": {
      "needs_background": "light"
     },
     "output_type": "display_data"
    }
   ],
   "source": [
    "#histogram plot\n",
    "plt.hist([df['vehicle_year']])"
   ]
  },
  {
   "cell_type": "markdown",
   "id": "66cfdd87",
   "metadata": {},
   "source": [
    "Observation :"
   ]
  },
  {
   "cell_type": "markdown",
   "id": "8f710b37",
   "metadata": {},
   "source": [
    "1. As per the above plot,most of the vehicles registered are new vehicles"
   ]
  },
  {
   "cell_type": "code",
   "execution_count": 14,
   "id": "006b2fd6",
   "metadata": {},
   "outputs": [
    {
     "name": "stdout",
     "output_type": "stream",
     "text": [
      "Breaking signup datetime\n",
      "Year: [2016]\n",
      "Month: [1]\n",
      "Week: [5 3 0 4 6 1 2] \n",
      "\n",
      "Day: [ 2 21 11 29 10 18 14 26  5 25  4 12 13 15 24 16  7  6  8 28 20  9 17  1\n",
      " 22 27 23 19 30  3]\n"
     ]
    }
   ],
   "source": [
    "#breaking the time stamps into  month, day of month, day of week, etc..\n",
    "print('Breaking signup datetime')\n",
    "print('Year:', pd.to_datetime(df['signup_date']).dt.year.unique())\n",
    "print('Month:', pd.to_datetime(df['signup_date']).dt.month.unique())\n",
    "print('Week:',pd.to_datetime(df['signup_date']).dt.dayofweek.unique(),'\\n')\n",
    "print('Day:',pd.to_datetime(df['signup_date']).dt.day.unique())\n"
   ]
  },
  {
   "cell_type": "code",
   "execution_count": 15,
   "id": "44e63533",
   "metadata": {},
   "outputs": [
    {
     "name": "stdout",
     "output_type": "stream",
     "text": [
      "Breaking Background check datetime\n",
      "Year: [  nan 2016.]\n",
      "Month: [nan  1.  2.  3.]\n",
      "Day: [nan 11.  3. 25. 18. 16.  5.  9. 12. 20.  7. 17. 15. 26. 27.  8. 21.  2.\n",
      " 31. 22. 10. 24. 30. 23.  4. 29. 19.  6. 14. 28.  1. 13.] \n",
      "\n"
     ]
    }
   ],
   "source": [
    "print('Breaking Background check datetime')\n",
    "print('Year:', pd.to_datetime(df['bgc_date']).dt.year.unique())\n",
    "print('Month:', pd.to_datetime(df['bgc_date']).dt.month.unique())\n",
    "print('Day:', pd.to_datetime(df['bgc_date']).dt.day.unique(),'\\n')"
   ]
  },
  {
   "cell_type": "code",
   "execution_count": 16,
   "id": "b10369d3",
   "metadata": {},
   "outputs": [
    {
     "name": "stdout",
     "output_type": "stream",
     "text": [
      "Breaking vehicle addedd datetime\n",
      "Year: [  nan 2016.]\n",
      "Month: [nan  2.  1.  3.]\n",
      "Day: [nan  3. 26. 22. 21. 24. 12. 17.  6. 28. 19. 25.  1. 15. 11. 30. 18. 14.\n",
      " 10. 23. 16. 20.  8.  4. 29.  2.  9. 27.  7.  5. 13. 31.]\n"
     ]
    }
   ],
   "source": [
    "print('Breaking vehicle addedd datetime')\n",
    "print('Year:', pd.to_datetime(df['vehicle_added_date']).dt.year.unique())\n",
    "print('Month:', pd.to_datetime(df['vehicle_added_date']).dt.month.unique())\n",
    "print('Day:', pd.to_datetime(df['vehicle_added_date']).dt.day.unique())"
   ]
  },
  {
   "cell_type": "markdown",
   "id": "9013f063",
   "metadata": {},
   "source": [
    "### Observations :"
   ]
  },
  {
   "cell_type": "markdown",
   "id": "6711e636",
   "metadata": {},
   "source": [
    "1. There is  no variation in 'signup_year' and 'signup_month' so we will not use them as features since they provide no insight."
   ]
  },
  {
   "cell_type": "markdown",
   "id": "5b1426cb",
   "metadata": {},
   "source": [
    "2. We will also not use 'bgc_year' and 'vehicle_added_year' as they only have two values: 2016 and NaN. "
   ]
  },
  {
   "cell_type": "markdown",
   "id": "903008cb",
   "metadata": {},
   "source": [
    "3. The NaN values are already captured by both the missing value flags."
   ]
  },
  {
   "cell_type": "markdown",
   "id": "7be1fdab",
   "metadata": {},
   "source": [
    "4. The reason for breaking the dates into both day of week and day of month is these features may capture time sensitive information specific to different periods. For instance, the day of month feature would capture promotional campaigns that target driver signups toward the beginning or end of each month, and the day of week feature would capture promotional campaigns that target drivers on weekends or working weekdays."
   ]
  },
  {
   "cell_type": "markdown",
   "id": "8cb07e15",
   "metadata": {},
   "source": [
    "### creating timestamp-derived features and replace any NaNs with -1.\n",
    "#### Extract month, day of month, day of week from date columns"
   ]
  },
  {
   "cell_type": "code",
   "execution_count": 17,
   "id": "87a79cef",
   "metadata": {},
   "outputs": [
    {
     "data": {
      "text/html": [
       "<div>\n",
       "<style scoped>\n",
       "    .dataframe tbody tr th:only-of-type {\n",
       "        vertical-align: middle;\n",
       "    }\n",
       "\n",
       "    .dataframe tbody tr th {\n",
       "        vertical-align: top;\n",
       "    }\n",
       "\n",
       "    .dataframe thead th {\n",
       "        text-align: right;\n",
       "    }\n",
       "</style>\n",
       "<table border=\"1\" class=\"dataframe\">\n",
       "  <thead>\n",
       "    <tr style=\"text-align: right;\">\n",
       "      <th></th>\n",
       "      <th>signup_day</th>\n",
       "      <th>signup_day_of_week</th>\n",
       "    </tr>\n",
       "  </thead>\n",
       "  <tbody>\n",
       "    <tr>\n",
       "      <th>0</th>\n",
       "      <td>2</td>\n",
       "      <td>5</td>\n",
       "    </tr>\n",
       "    <tr>\n",
       "      <th>1</th>\n",
       "      <td>21</td>\n",
       "      <td>3</td>\n",
       "    </tr>\n",
       "    <tr>\n",
       "      <th>2</th>\n",
       "      <td>11</td>\n",
       "      <td>0</td>\n",
       "    </tr>\n",
       "    <tr>\n",
       "      <th>3</th>\n",
       "      <td>29</td>\n",
       "      <td>4</td>\n",
       "    </tr>\n",
       "    <tr>\n",
       "      <th>4</th>\n",
       "      <td>10</td>\n",
       "      <td>6</td>\n",
       "    </tr>\n",
       "    <tr>\n",
       "      <th>5</th>\n",
       "      <td>18</td>\n",
       "      <td>0</td>\n",
       "    </tr>\n",
       "    <tr>\n",
       "      <th>6</th>\n",
       "      <td>14</td>\n",
       "      <td>3</td>\n",
       "    </tr>\n",
       "    <tr>\n",
       "      <th>7</th>\n",
       "      <td>26</td>\n",
       "      <td>1</td>\n",
       "    </tr>\n",
       "    <tr>\n",
       "      <th>8</th>\n",
       "      <td>5</td>\n",
       "      <td>1</td>\n",
       "    </tr>\n",
       "    <tr>\n",
       "      <th>9</th>\n",
       "      <td>25</td>\n",
       "      <td>0</td>\n",
       "    </tr>\n",
       "  </tbody>\n",
       "</table>\n",
       "</div>"
      ],
      "text/plain": [
       "   signup_day  signup_day_of_week\n",
       "0           2                   5\n",
       "1          21                   3\n",
       "2          11                   0\n",
       "3          29                   4\n",
       "4          10                   6\n",
       "5          18                   0\n",
       "6          14                   3\n",
       "7          26                   1\n",
       "8           5                   1\n",
       "9          25                   0"
      ]
     },
     "execution_count": 17,
     "metadata": {},
     "output_type": "execute_result"
    }
   ],
   "source": [
    "df['signup_day'] = pd.to_datetime(df['signup_date']).dt.day.fillna(-1)\n",
    "df['signup_day_of_week'] = pd.to_datetime(df['signup_date']).dt.dayofweek.fillna(-1)\n",
    "df[['signup_day', 'signup_day_of_week']].head(10)"
   ]
  },
  {
   "cell_type": "code",
   "execution_count": 18,
   "id": "b2a65aba",
   "metadata": {},
   "outputs": [
    {
     "data": {
      "text/html": [
       "<div>\n",
       "<style scoped>\n",
       "    .dataframe tbody tr th:only-of-type {\n",
       "        vertical-align: middle;\n",
       "    }\n",
       "\n",
       "    .dataframe tbody tr th {\n",
       "        vertical-align: top;\n",
       "    }\n",
       "\n",
       "    .dataframe thead th {\n",
       "        text-align: right;\n",
       "    }\n",
       "</style>\n",
       "<table border=\"1\" class=\"dataframe\">\n",
       "  <thead>\n",
       "    <tr style=\"text-align: right;\">\n",
       "      <th></th>\n",
       "      <th>bgc_month</th>\n",
       "      <th>bgc_day</th>\n",
       "      <th>bgc_day_of_week</th>\n",
       "    </tr>\n",
       "  </thead>\n",
       "  <tbody>\n",
       "    <tr>\n",
       "      <th>0</th>\n",
       "      <td>-1.0</td>\n",
       "      <td>-1.0</td>\n",
       "      <td>-1.0</td>\n",
       "    </tr>\n",
       "    <tr>\n",
       "      <th>1</th>\n",
       "      <td>-1.0</td>\n",
       "      <td>-1.0</td>\n",
       "      <td>-1.0</td>\n",
       "    </tr>\n",
       "    <tr>\n",
       "      <th>2</th>\n",
       "      <td>1.0</td>\n",
       "      <td>11.0</td>\n",
       "      <td>0.0</td>\n",
       "    </tr>\n",
       "    <tr>\n",
       "      <th>3</th>\n",
       "      <td>2.0</td>\n",
       "      <td>3.0</td>\n",
       "      <td>2.0</td>\n",
       "    </tr>\n",
       "    <tr>\n",
       "      <th>4</th>\n",
       "      <td>1.0</td>\n",
       "      <td>25.0</td>\n",
       "      <td>0.0</td>\n",
       "    </tr>\n",
       "    <tr>\n",
       "      <th>5</th>\n",
       "      <td>1.0</td>\n",
       "      <td>18.0</td>\n",
       "      <td>0.0</td>\n",
       "    </tr>\n",
       "    <tr>\n",
       "      <th>6</th>\n",
       "      <td>1.0</td>\n",
       "      <td>16.0</td>\n",
       "      <td>5.0</td>\n",
       "    </tr>\n",
       "    <tr>\n",
       "      <th>7</th>\n",
       "      <td>2.0</td>\n",
       "      <td>5.0</td>\n",
       "      <td>4.0</td>\n",
       "    </tr>\n",
       "    <tr>\n",
       "      <th>8</th>\n",
       "      <td>-1.0</td>\n",
       "      <td>-1.0</td>\n",
       "      <td>-1.0</td>\n",
       "    </tr>\n",
       "    <tr>\n",
       "      <th>9</th>\n",
       "      <td>-1.0</td>\n",
       "      <td>-1.0</td>\n",
       "      <td>-1.0</td>\n",
       "    </tr>\n",
       "  </tbody>\n",
       "</table>\n",
       "</div>"
      ],
      "text/plain": [
       "   bgc_month  bgc_day  bgc_day_of_week\n",
       "0       -1.0     -1.0             -1.0\n",
       "1       -1.0     -1.0             -1.0\n",
       "2        1.0     11.0              0.0\n",
       "3        2.0      3.0              2.0\n",
       "4        1.0     25.0              0.0\n",
       "5        1.0     18.0              0.0\n",
       "6        1.0     16.0              5.0\n",
       "7        2.0      5.0              4.0\n",
       "8       -1.0     -1.0             -1.0\n",
       "9       -1.0     -1.0             -1.0"
      ]
     },
     "execution_count": 18,
     "metadata": {},
     "output_type": "execute_result"
    }
   ],
   "source": [
    "df['bgc_month'] = pd.to_datetime(df['bgc_date']).dt.month.fillna(-1)\n",
    "df['bgc_day'] = pd.to_datetime(df['bgc_date']).dt.day.fillna(-1)\n",
    "df['bgc_day_of_week'] = pd.to_datetime(df['bgc_date']).dt.dayofweek.fillna(-1)\n",
    "df[['bgc_month', 'bgc_day','bgc_day_of_week']].head(10)"
   ]
  },
  {
   "cell_type": "code",
   "execution_count": 19,
   "id": "1e70d0cc",
   "metadata": {},
   "outputs": [
    {
     "data": {
      "text/html": [
       "<div>\n",
       "<style scoped>\n",
       "    .dataframe tbody tr th:only-of-type {\n",
       "        vertical-align: middle;\n",
       "    }\n",
       "\n",
       "    .dataframe tbody tr th {\n",
       "        vertical-align: top;\n",
       "    }\n",
       "\n",
       "    .dataframe thead th {\n",
       "        text-align: right;\n",
       "    }\n",
       "</style>\n",
       "<table border=\"1\" class=\"dataframe\">\n",
       "  <thead>\n",
       "    <tr style=\"text-align: right;\">\n",
       "      <th></th>\n",
       "      <th>vehicle_added_month</th>\n",
       "      <th>vehicle_added_day</th>\n",
       "      <th>vehicle_added_day_of_week</th>\n",
       "    </tr>\n",
       "  </thead>\n",
       "  <tbody>\n",
       "    <tr>\n",
       "      <th>0</th>\n",
       "      <td>-1.0</td>\n",
       "      <td>-1.0</td>\n",
       "      <td>-1.0</td>\n",
       "    </tr>\n",
       "    <tr>\n",
       "      <th>1</th>\n",
       "      <td>-1.0</td>\n",
       "      <td>-1.0</td>\n",
       "      <td>-1.0</td>\n",
       "    </tr>\n",
       "    <tr>\n",
       "      <th>2</th>\n",
       "      <td>-1.0</td>\n",
       "      <td>-1.0</td>\n",
       "      <td>-1.0</td>\n",
       "    </tr>\n",
       "    <tr>\n",
       "      <th>3</th>\n",
       "      <td>2.0</td>\n",
       "      <td>3.0</td>\n",
       "      <td>2.0</td>\n",
       "    </tr>\n",
       "    <tr>\n",
       "      <th>4</th>\n",
       "      <td>1.0</td>\n",
       "      <td>26.0</td>\n",
       "      <td>1.0</td>\n",
       "    </tr>\n",
       "    <tr>\n",
       "      <th>5</th>\n",
       "      <td>1.0</td>\n",
       "      <td>22.0</td>\n",
       "      <td>4.0</td>\n",
       "    </tr>\n",
       "    <tr>\n",
       "      <th>6</th>\n",
       "      <td>1.0</td>\n",
       "      <td>21.0</td>\n",
       "      <td>3.0</td>\n",
       "    </tr>\n",
       "    <tr>\n",
       "      <th>7</th>\n",
       "      <td>-1.0</td>\n",
       "      <td>-1.0</td>\n",
       "      <td>-1.0</td>\n",
       "    </tr>\n",
       "    <tr>\n",
       "      <th>8</th>\n",
       "      <td>-1.0</td>\n",
       "      <td>-1.0</td>\n",
       "      <td>-1.0</td>\n",
       "    </tr>\n",
       "    <tr>\n",
       "      <th>9</th>\n",
       "      <td>-1.0</td>\n",
       "      <td>-1.0</td>\n",
       "      <td>-1.0</td>\n",
       "    </tr>\n",
       "  </tbody>\n",
       "</table>\n",
       "</div>"
      ],
      "text/plain": [
       "   vehicle_added_month  vehicle_added_day  vehicle_added_day_of_week\n",
       "0                 -1.0               -1.0                       -1.0\n",
       "1                 -1.0               -1.0                       -1.0\n",
       "2                 -1.0               -1.0                       -1.0\n",
       "3                  2.0                3.0                        2.0\n",
       "4                  1.0               26.0                        1.0\n",
       "5                  1.0               22.0                        4.0\n",
       "6                  1.0               21.0                        3.0\n",
       "7                 -1.0               -1.0                       -1.0\n",
       "8                 -1.0               -1.0                       -1.0\n",
       "9                 -1.0               -1.0                       -1.0"
      ]
     },
     "execution_count": 19,
     "metadata": {},
     "output_type": "execute_result"
    }
   ],
   "source": [
    "df['vehicle_added_month'] = pd.to_datetime(df['vehicle_added_date']).dt.month.fillna(-1)\n",
    "df['vehicle_added_day'] = pd.to_datetime(df['vehicle_added_date']).dt.day.fillna(-1)\n",
    "df['vehicle_added_day_of_week'] = pd.to_datetime(df['vehicle_added_date']).dt.dayofweek.fillna(-1)\n",
    "df[['vehicle_added_month', 'vehicle_added_day','vehicle_added_day_of_week']].head(10)"
   ]
  },
  {
   "cell_type": "code",
   "execution_count": 20,
   "id": "e45fe03c",
   "metadata": {},
   "outputs": [
    {
     "data": {
      "text/html": [
       "<div>\n",
       "<style scoped>\n",
       "    .dataframe tbody tr th:only-of-type {\n",
       "        vertical-align: middle;\n",
       "    }\n",
       "\n",
       "    .dataframe tbody tr th {\n",
       "        vertical-align: top;\n",
       "    }\n",
       "\n",
       "    .dataframe thead th {\n",
       "        text-align: right;\n",
       "    }\n",
       "</style>\n",
       "<table border=\"1\" class=\"dataframe\">\n",
       "  <thead>\n",
       "    <tr style=\"text-align: right;\">\n",
       "      <th></th>\n",
       "      <th>id</th>\n",
       "      <th>city_name</th>\n",
       "      <th>signup_os</th>\n",
       "      <th>signup_channel</th>\n",
       "      <th>signup_date</th>\n",
       "      <th>bgc_date</th>\n",
       "      <th>vehicle_added_date</th>\n",
       "      <th>vehicle_make</th>\n",
       "      <th>vehicle_model</th>\n",
       "      <th>vehicle_year</th>\n",
       "      <th>...</th>\n",
       "      <th>signup_bgc_delta</th>\n",
       "      <th>signup_vehicle_delta</th>\n",
       "      <th>signup_day</th>\n",
       "      <th>signup_day_of_week</th>\n",
       "      <th>bgc_month</th>\n",
       "      <th>bgc_day</th>\n",
       "      <th>bgc_day_of_week</th>\n",
       "      <th>vehicle_added_month</th>\n",
       "      <th>vehicle_added_day</th>\n",
       "      <th>vehicle_added_day_of_week</th>\n",
       "    </tr>\n",
       "  </thead>\n",
       "  <tbody>\n",
       "    <tr>\n",
       "      <th>0</th>\n",
       "      <td>1</td>\n",
       "      <td>Strark</td>\n",
       "      <td>ios web</td>\n",
       "      <td>Paid</td>\n",
       "      <td>2016-01-02</td>\n",
       "      <td>NaT</td>\n",
       "      <td>NaT</td>\n",
       "      <td>NaN</td>\n",
       "      <td>NaN</td>\n",
       "      <td>NaN</td>\n",
       "      <td>...</td>\n",
       "      <td>-1.0</td>\n",
       "      <td>-1.0</td>\n",
       "      <td>2</td>\n",
       "      <td>5</td>\n",
       "      <td>-1.0</td>\n",
       "      <td>-1.0</td>\n",
       "      <td>-1.0</td>\n",
       "      <td>-1.0</td>\n",
       "      <td>-1.0</td>\n",
       "      <td>-1.0</td>\n",
       "    </tr>\n",
       "    <tr>\n",
       "      <th>1</th>\n",
       "      <td>2</td>\n",
       "      <td>Strark</td>\n",
       "      <td>windows</td>\n",
       "      <td>Paid</td>\n",
       "      <td>2016-01-21</td>\n",
       "      <td>NaT</td>\n",
       "      <td>NaT</td>\n",
       "      <td>NaN</td>\n",
       "      <td>NaN</td>\n",
       "      <td>NaN</td>\n",
       "      <td>...</td>\n",
       "      <td>-1.0</td>\n",
       "      <td>-1.0</td>\n",
       "      <td>21</td>\n",
       "      <td>3</td>\n",
       "      <td>-1.0</td>\n",
       "      <td>-1.0</td>\n",
       "      <td>-1.0</td>\n",
       "      <td>-1.0</td>\n",
       "      <td>-1.0</td>\n",
       "      <td>-1.0</td>\n",
       "    </tr>\n",
       "    <tr>\n",
       "      <th>2</th>\n",
       "      <td>3</td>\n",
       "      <td>Wrouver</td>\n",
       "      <td>windows</td>\n",
       "      <td>Organic</td>\n",
       "      <td>2016-01-11</td>\n",
       "      <td>2016-01-11</td>\n",
       "      <td>NaT</td>\n",
       "      <td>NaN</td>\n",
       "      <td>NaN</td>\n",
       "      <td>NaN</td>\n",
       "      <td>...</td>\n",
       "      <td>0.0</td>\n",
       "      <td>-1.0</td>\n",
       "      <td>11</td>\n",
       "      <td>0</td>\n",
       "      <td>1.0</td>\n",
       "      <td>11.0</td>\n",
       "      <td>0.0</td>\n",
       "      <td>-1.0</td>\n",
       "      <td>-1.0</td>\n",
       "      <td>-1.0</td>\n",
       "    </tr>\n",
       "    <tr>\n",
       "      <th>3</th>\n",
       "      <td>4</td>\n",
       "      <td>Berton</td>\n",
       "      <td>android web</td>\n",
       "      <td>Referral</td>\n",
       "      <td>2016-01-29</td>\n",
       "      <td>2016-02-03</td>\n",
       "      <td>2016-02-03</td>\n",
       "      <td>Toyota</td>\n",
       "      <td>Corolla</td>\n",
       "      <td>2016.0</td>\n",
       "      <td>...</td>\n",
       "      <td>5.0</td>\n",
       "      <td>5.0</td>\n",
       "      <td>29</td>\n",
       "      <td>4</td>\n",
       "      <td>2.0</td>\n",
       "      <td>3.0</td>\n",
       "      <td>2.0</td>\n",
       "      <td>2.0</td>\n",
       "      <td>3.0</td>\n",
       "      <td>2.0</td>\n",
       "    </tr>\n",
       "    <tr>\n",
       "      <th>4</th>\n",
       "      <td>5</td>\n",
       "      <td>Strark</td>\n",
       "      <td>android web</td>\n",
       "      <td>Referral</td>\n",
       "      <td>2016-01-10</td>\n",
       "      <td>2016-01-25</td>\n",
       "      <td>2016-01-26</td>\n",
       "      <td>Hyundai</td>\n",
       "      <td>Sonata</td>\n",
       "      <td>2016.0</td>\n",
       "      <td>...</td>\n",
       "      <td>15.0</td>\n",
       "      <td>16.0</td>\n",
       "      <td>10</td>\n",
       "      <td>6</td>\n",
       "      <td>1.0</td>\n",
       "      <td>25.0</td>\n",
       "      <td>0.0</td>\n",
       "      <td>1.0</td>\n",
       "      <td>26.0</td>\n",
       "      <td>1.0</td>\n",
       "    </tr>\n",
       "  </tbody>\n",
       "</table>\n",
       "<p>5 rows × 25 columns</p>\n",
       "</div>"
      ],
      "text/plain": [
       "   id city_name    signup_os signup_channel signup_date   bgc_date  \\\n",
       "0   1    Strark      ios web           Paid  2016-01-02        NaT   \n",
       "1   2    Strark      windows           Paid  2016-01-21        NaT   \n",
       "2   3   Wrouver      windows        Organic  2016-01-11 2016-01-11   \n",
       "3   4    Berton  android web       Referral  2016-01-29 2016-02-03   \n",
       "4   5    Strark  android web       Referral  2016-01-10 2016-01-25   \n",
       "\n",
       "  vehicle_added_date vehicle_make vehicle_model  vehicle_year  ...  \\\n",
       "0                NaT          NaN           NaN           NaN  ...   \n",
       "1                NaT          NaN           NaN           NaN  ...   \n",
       "2                NaT          NaN           NaN           NaN  ...   \n",
       "3         2016-02-03       Toyota       Corolla        2016.0  ...   \n",
       "4         2016-01-26      Hyundai        Sonata        2016.0  ...   \n",
       "\n",
       "  signup_bgc_delta  signup_vehicle_delta  signup_day  signup_day_of_week  \\\n",
       "0             -1.0                  -1.0           2                   5   \n",
       "1             -1.0                  -1.0          21                   3   \n",
       "2              0.0                  -1.0          11                   0   \n",
       "3              5.0                   5.0          29                   4   \n",
       "4             15.0                  16.0          10                   6   \n",
       "\n",
       "   bgc_month  bgc_day  bgc_day_of_week  vehicle_added_month  \\\n",
       "0       -1.0     -1.0             -1.0                 -1.0   \n",
       "1       -1.0     -1.0             -1.0                 -1.0   \n",
       "2        1.0     11.0              0.0                 -1.0   \n",
       "3        2.0      3.0              2.0                  2.0   \n",
       "4        1.0     25.0              0.0                  1.0   \n",
       "\n",
       "   vehicle_added_day  vehicle_added_day_of_week  \n",
       "0               -1.0                       -1.0  \n",
       "1               -1.0                       -1.0  \n",
       "2               -1.0                       -1.0  \n",
       "3                3.0                        2.0  \n",
       "4               26.0                        1.0  \n",
       "\n",
       "[5 rows x 25 columns]"
      ]
     },
     "execution_count": 20,
     "metadata": {},
     "output_type": "execute_result"
    }
   ],
   "source": [
    "df.head()"
   ]
  },
  {
   "cell_type": "markdown",
   "id": "4a1a9f06",
   "metadata": {},
   "source": [
    "### Categorical features :"
   ]
  },
  {
   "cell_type": "markdown",
   "id": "53fc2a2c",
   "metadata": {},
   "source": [
    "#### Analysing the Categorical features in detail:"
   ]
  },
  {
   "cell_type": "code",
   "execution_count": 21,
   "id": "556b9e36",
   "metadata": {},
   "outputs": [
    {
     "data": {
      "text/plain": [
       "Strark     0.540535\n",
       "Berton     0.367897\n",
       "Wrouver    0.091567\n",
       "Name: city_name, dtype: float64"
      ]
     },
     "execution_count": 21,
     "metadata": {},
     "output_type": "execute_result"
    }
   ],
   "source": [
    "df['city_name'].value_counts(normalize=True, dropna=False)"
   ]
  },
  {
   "cell_type": "code",
   "execution_count": 22,
   "id": "288a819f",
   "metadata": {},
   "outputs": [
    {
     "data": {
      "text/plain": [
       "ios web        0.304164\n",
       "android web    0.273294\n",
       "NaN            0.125400\n",
       "windows        0.123919\n",
       "mac            0.106509\n",
       "other          0.066714\n",
       "Name: signup_os, dtype: float64"
      ]
     },
     "execution_count": 22,
     "metadata": {},
     "output_type": "execute_result"
    }
   ],
   "source": [
    "df['signup_os'].value_counts(normalize=True, dropna=False)"
   ]
  },
  {
   "cell_type": "code",
   "execution_count": 23,
   "id": "402708ee",
   "metadata": {},
   "outputs": [
    {
     "data": {
      "text/plain": [
       "Paid        0.437775\n",
       "Referral    0.316673\n",
       "Organic     0.245551\n",
       "Name: signup_channel, dtype: float64"
      ]
     },
     "execution_count": 23,
     "metadata": {},
     "output_type": "execute_result"
    }
   ],
   "source": [
    "df['signup_channel'].value_counts(normalize=True, dropna=False)"
   ]
  },
  {
   "cell_type": "markdown",
   "id": "f3795349",
   "metadata": {},
   "source": [
    "#### One hot encoding on City Name, Signup OS and Signup Channel"
   ]
  },
  {
   "cell_type": "code",
   "execution_count": 24,
   "id": "4a4d46ff",
   "metadata": {},
   "outputs": [
    {
     "name": "stdout",
     "output_type": "stream",
     "text": [
      "   Berton  Strark  Wrouver\n",
      "0       0       1        0\n",
      "1       0       1        0\n",
      "2       0       0        1\n",
      "3       1       0        0\n",
      "4       0       1        0\n",
      "--------------------------------------------------\n",
      "   android web  ios web  mac  other  windows\n",
      "0            0        1    0      0        0\n",
      "1            0        0    0      0        1\n",
      "2            0        0    0      0        1\n",
      "3            1        0    0      0        0\n",
      "4            1        0    0      0        0\n",
      "--------------------------------------------------\n",
      "   Organic  Paid  Referral\n",
      "0        0     1         0\n",
      "1        0     1         0\n",
      "2        1     0         0\n",
      "3        0     0         1\n",
      "4        0     0         1\n"
     ]
    }
   ],
   "source": [
    "\n",
    "dum_city_name = pd.get_dummies(df['city_name'])\n",
    "dum_signup_os = pd.get_dummies(df['signup_os'])\n",
    "dum_signup_channel = pd.get_dummies(df['signup_channel'])\n",
    "\n",
    "print(dum_city_name.head(5))\n",
    "print('-'*50)\n",
    "print(dum_signup_os.head(5))\n",
    "print('-'*50)\n",
    "print(dum_signup_channel.head(5))"
   ]
  },
  {
   "cell_type": "markdown",
   "id": "8f63a2da",
   "metadata": {},
   "source": [
    "#### Unique values in Vehicle Make feature"
   ]
  },
  {
   "cell_type": "code",
   "execution_count": 25,
   "id": "c51bcfe7",
   "metadata": {},
   "outputs": [
    {
     "data": {
      "text/plain": [
       "46"
      ]
     },
     "execution_count": 25,
     "metadata": {},
     "output_type": "execute_result"
    }
   ],
   "source": [
    "df['vehicle_make'].nunique()"
   ]
  },
  {
   "cell_type": "code",
   "execution_count": 26,
   "id": "2dd6d98c",
   "metadata": {},
   "outputs": [
    {
     "data": {
      "text/plain": [
       "Toyota           3219\n",
       "Honda            1845\n",
       "Nissan           1311\n",
       "Ford              778\n",
       "Hyundai           677\n",
       "Chevrolet         665\n",
       "Kia               584\n",
       "Volkswagen        503\n",
       "Dodge             393\n",
       "Mercedes-Benz     348\n",
       "Lexus             335\n",
       "BMW               330\n",
       "Mazda             292\n",
       "Subaru            221\n",
       "Jeep              203\n",
       "Chrysler          202\n",
       "Acura             190\n",
       "Scion             164\n",
       "Infiniti          147\n",
       "Audi              144\n",
       "Mitsubishi        113\n",
       "GMC                89\n",
       "Cadillac           86\n",
       "Lincoln            70\n",
       "Volvo              57\n",
       "Buick              46\n",
       "Saturn             30\n",
       "Pontiac            30\n",
       "Land Rover         20\n",
       "Mini               20\n",
       "Jaguar             15\n",
       "Tesla              13\n",
       "Suzuki             12\n",
       "Fiat               11\n",
       "Porsche            10\n",
       "Mercury             9\n",
       "Autobot             8\n",
       "Hummer              7\n",
       "Saab                7\n",
       "Bike                6\n",
       "Bicycle             5\n",
       "Bentley             2\n",
       "Maserati            2\n",
       "Isuzu               2\n",
       "Walker              1\n",
       "Oldsmobile          1\n",
       "Name: vehicle_make, dtype: int64"
      ]
     },
     "execution_count": 26,
     "metadata": {},
     "output_type": "execute_result"
    }
   ],
   "source": [
    "df['vehicle_make'].value_counts()"
   ]
  },
  {
   "cell_type": "markdown",
   "id": "5ce30019",
   "metadata": {},
   "source": [
    "### Observation"
   ]
  },
  {
   "cell_type": "markdown",
   "id": "4238a1ef",
   "metadata": {},
   "source": [
    "There are so many different vehicle manufacturers, instead of dummifying them we will convert them to numeric values using the LabelEncoder() method."
   ]
  },
  {
   "cell_type": "code",
   "execution_count": 27,
   "id": "4078c5df",
   "metadata": {},
   "outputs": [],
   "source": [
    "# Convert NaN values to 'None' so that LabelEncoder() can handle them without throwing an error\n",
    "df['vehicle_make'].replace(np.NaN,'None', inplace=True)"
   ]
  },
  {
   "cell_type": "code",
   "execution_count": 28,
   "id": "fc1f0511",
   "metadata": {},
   "outputs": [],
   "source": [
    "le = LabelEncoder()\n",
    "df['vehicle_make'] = le.fit_transform(df['vehicle_make'])"
   ]
  },
  {
   "cell_type": "code",
   "execution_count": 29,
   "id": "204b2a3f",
   "metadata": {},
   "outputs": [
    {
     "data": {
      "text/plain": [
       "23"
      ]
     },
     "execution_count": 29,
     "metadata": {},
     "output_type": "execute_result"
    }
   ],
   "source": [
    "df['vehicle_year'].nunique()"
   ]
  },
  {
   "cell_type": "code",
   "execution_count": 30,
   "id": "ca8697e4",
   "metadata": {},
   "outputs": [
    {
     "data": {
      "text/plain": [
       "2015.0    2402\n",
       "2014.0    1655\n",
       "2013.0    1451\n",
       "2016.0    1150\n",
       "2012.0    1122\n",
       "2007.0     711\n",
       "2011.0     702\n",
       "2008.0     659\n",
       "2010.0     645\n",
       "2006.0     550\n",
       "2009.0     513\n",
       "2005.0     450\n",
       "2004.0     369\n",
       "2003.0     350\n",
       "2002.0     251\n",
       "2001.0     169\n",
       "2000.0      29\n",
       "1999.0      14\n",
       "1998.0      10\n",
       "1997.0       6\n",
       "2017.0       6\n",
       "1996.0       4\n",
       "1995.0       1\n",
       "Name: vehicle_year, dtype: int64"
      ]
     },
     "execution_count": 30,
     "metadata": {},
     "output_type": "execute_result"
    }
   ],
   "source": [
    "df['vehicle_year'].value_counts()"
   ]
  },
  {
   "cell_type": "code",
   "execution_count": 31,
   "id": "2e238db3",
   "metadata": {},
   "outputs": [],
   "source": [
    "# Convert None values to 0 so that LabelEncoder() can handle them without throwing an error\n",
    "df['vehicle_year'].replace('None',0, inplace=True)"
   ]
  },
  {
   "cell_type": "code",
   "execution_count": 32,
   "id": "3edbf7b3",
   "metadata": {},
   "outputs": [],
   "source": [
    "le = LabelEncoder()\n",
    "df['vehicle_year'] = le.fit_transform(df['vehicle_year'])"
   ]
  },
  {
   "cell_type": "code",
   "execution_count": 33,
   "id": "8c4e534a",
   "metadata": {},
   "outputs": [
    {
     "data": {
      "text/plain": [
       "368"
      ]
     },
     "execution_count": 33,
     "metadata": {},
     "output_type": "execute_result"
    }
   ],
   "source": [
    "df['vehicle_model'].nunique()"
   ]
  },
  {
   "cell_type": "code",
   "execution_count": 34,
   "id": "8deb6da3",
   "metadata": {},
   "outputs": [
    {
     "data": {
      "text/plain": [
       "Civic                  689\n",
       "Corolla                688\n",
       "Camry                  683\n",
       "Accord                 595\n",
       "Prius V                522\n",
       "                      ... \n",
       "5-Sep                    1\n",
       "ML Class                 1\n",
       "6-series Gran Coupe      1\n",
       "FR-S                     1\n",
       "Prizm                    1\n",
       "Name: vehicle_model, Length: 368, dtype: int64"
      ]
     },
     "execution_count": 34,
     "metadata": {},
     "output_type": "execute_result"
    }
   ],
   "source": [
    "df['vehicle_model'].value_counts()"
   ]
  },
  {
   "cell_type": "code",
   "execution_count": 35,
   "id": "8a043804",
   "metadata": {},
   "outputs": [
    {
     "data": {
      "text/plain": [
       "array([nan, 'Corolla', 'Sonata', 'DTS', 'Prius V', 'Optima', 'Durango',\n",
       "       'C-Class', 'G Sedan', 'Civic', '500X', 'Escalade', 'RDX', 'ES',\n",
       "       'Prius', 'CR-V', 'CT', 'Terrain', 'G6', 'Civic Hybrid', 'Accord',\n",
       "       'Versa', 'Odyssey', 'Grand Cherokee', 'GTI', 'F-150', 'A4',\n",
       "       'Insight Hybrid', 'Elantra', 'Camry', 'Sentra', 'Malibu', 'Soul',\n",
       "       'Altima', 'Journey', 'Compass', '3-series', 'Cruze', 'Forester',\n",
       "       'Century', 'MAZDA3', 'XV Crosstrek', 'Charger', 'Flex', '7-series',\n",
       "       'RAV4', 'Traverse', 'Avenger', 'Jetta', 'Expedition', 'IS',\n",
       "       'Town and Country', 'Sienna', 'iM', 'Freestyle', 'VUE', 'Avalon',\n",
       "       'Tacoma', 'MAZDA6', 'Dart', 'Suburban', 'Xterra', 'Forte',\n",
       "       'Highlander', 'Santa Fe', 'Focus', 'Q50', 'Impreza', 'xB',\n",
       "       'Fiesta', 'Ridgeline', '5-series', 'Pilot', 'Fusion', 'Regal',\n",
       "       'Caravan', 'E-Class', 'Rogue', '200', 'S80', 'Enclave', 'Nitro',\n",
       "       'Cavalier', 'Pathfinder', 'Escape', 'Murano', 'Sportage', 'HR-V',\n",
       "       'Maxima', 'Lucerne', 'Impala', 'CX-9', 'MDX', 'FX', 'Cherokee',\n",
       "       'Genesis', 'Town Car', 'Accent', 'Passat', 'Torrent'], dtype=object)"
      ]
     },
     "execution_count": 35,
     "metadata": {},
     "output_type": "execute_result"
    }
   ],
   "source": [
    "df['vehicle_model'].unique()[:100]"
   ]
  },
  {
   "cell_type": "markdown",
   "id": "f5de07fe",
   "metadata": {},
   "source": [
    "Observation :"
   ]
  },
  {
   "cell_type": "markdown",
   "id": "b78bdf14",
   "metadata": {},
   "source": [
    "1. We can see from the above model names, some of these model names exclusively contain alphabetic characters and some contain a mixture of alphabetic and numeric characters (i.e., alphanumeric)"
   ]
  },
  {
   "cell_type": "markdown",
   "id": "c6ea880c",
   "metadata": {},
   "source": [
    "2. Some findings suggest that car names with alphanumeric characters (e.g., CX-9) signify luxury and fanciness, whereas car names with just alphabetic characters (e.g., Versa) signify value, cheaper and mass-market cars.  [See this article for details](http://www.atlasobscura.com/articles/how-cars-get-named)"
   ]
  },
  {
   "cell_type": "markdown",
   "id": "1a3e1307",
   "metadata": {},
   "source": [
    "3. Let's create a flag for the cars that contain numbers in them.  The reason would be, the owners of higher-end cars to be less likely to follow through and complete their first drive than owners of more common cars."
   ]
  },
  {
   "cell_type": "markdown",
   "id": "f0770dd9",
   "metadata": {},
   "source": [
    "#### Checking if a car has a number in it"
   ]
  },
  {
   "cell_type": "code",
   "execution_count": 36,
   "id": "7fc57220",
   "metadata": {},
   "outputs": [],
   "source": [
    "def Alphanumeric(s):\n",
    "    try:\n",
    "        return int(any(i.isdigit() for i in s))\n",
    "    except:\n",
    "        return -1"
   ]
  },
  {
   "cell_type": "code",
   "execution_count": 37,
   "id": "34424094",
   "metadata": {},
   "outputs": [
    {
     "data": {
      "text/plain": [
       "-1    41458\n",
       " 0    11837\n",
       " 1     1386\n",
       "Name: luxury_vehicle, dtype: int64"
      ]
     },
     "execution_count": 37,
     "metadata": {},
     "output_type": "execute_result"
    }
   ],
   "source": [
    "df['luxury_vehicle'] = df['vehicle_model'].apply(Alphanumeric)\n",
    "df['luxury_vehicle'].value_counts()"
   ]
  },
  {
   "cell_type": "markdown",
   "id": "50a01877",
   "metadata": {},
   "source": [
    "#### Replaceing NaN values to 'None' "
   ]
  },
  {
   "cell_type": "code",
   "execution_count": 38,
   "id": "cfe681de",
   "metadata": {},
   "outputs": [],
   "source": [
    "df['vehicle_model'].replace(np.NaN, 'None', inplace=True)\n",
    "le = LabelEncoder()\n",
    "df['vehicle_model'] = le.fit_transform(df['vehicle_model'])"
   ]
  },
  {
   "cell_type": "code",
   "execution_count": 39,
   "id": "0039a0c6",
   "metadata": {},
   "outputs": [],
   "source": [
    "#Encoding 'first_completed_date'\n",
    "df['first_drive'] = df['first_completed_date'].isnull().astype(int)"
   ]
  },
  {
   "cell_type": "code",
   "execution_count": 94,
   "id": "62d12d20",
   "metadata": {},
   "outputs": [
    {
     "data": {
      "text/plain": [
       "<AxesSubplot:>"
      ]
     },
     "execution_count": 94,
     "metadata": {},
     "output_type": "execute_result"
    },
    {
     "data": {
      "image/png": "[encoded data removed]",
      "text/plain": [
       "<Figure size 432x288 with 1 Axes>"
      ]
     },
     "metadata": {},
     "output_type": "display_data"
    }
   ],
   "source": [
    "df['first_drive'].value_counts().plot(kind='bar')"
   ]
  },
  {
   "cell_type": "markdown",
   "id": "74fa85db",
   "metadata": {},
   "source": [
    "we are defining 1 to be the applicant who signs up and does not complete first trip as a driver, and defining 0 to be the applicant who signs up and does complete first trip as a driver."
   ]
  },
  {
   "cell_type": "markdown",
   "id": "5ddc5c92",
   "metadata": {},
   "source": [
    "#### Question 1 - What fraction of the driver signups took a first trip?"
   ]
  },
  {
   "cell_type": "code",
   "execution_count": 41,
   "id": "7944e9f5",
   "metadata": {},
   "outputs": [
    {
     "data": {
      "text/plain": [
       "1    48544\n",
       "0     6137\n",
       "Name: first_drive, dtype: int64"
      ]
     },
     "execution_count": 41,
     "metadata": {},
     "output_type": "execute_result"
    }
   ],
   "source": [
    "df['first_drive'].value_counts()"
   ]
  },
  {
   "cell_type": "code",
   "execution_count": 42,
   "id": "aba5236d",
   "metadata": {},
   "outputs": [
    {
     "data": {
      "text/plain": [
       "1    0.887767\n",
       "0    0.112233\n",
       "Name: first_drive, dtype: float64"
      ]
     },
     "execution_count": 42,
     "metadata": {},
     "output_type": "execute_result"
    }
   ],
   "source": [
    "df['first_drive'].value_counts(normalize=True)"
   ]
  },
  {
   "cell_type": "markdown",
   "id": "6bfa64cc",
   "metadata": {},
   "source": [
    "###### Ans : 11.2% of driver applicants who signed up actually took a first trip as a driver."
   ]
  },
  {
   "cell_type": "markdown",
   "id": "9ad18719",
   "metadata": {},
   "source": [
    "#### Q2 : Build a predictive model to help determine whether or not a driver signup will start driving. Discuss why you chose your approach, what alternatives you considered, and any concerns you have. How valid is your model? Include any key indicators of model performance."
   ]
  },
  {
   "cell_type": "code",
   "execution_count": 44,
   "id": "a34aba9d",
   "metadata": {},
   "outputs": [
    {
     "data": {
      "text/plain": [
       "Index(['id', 'city_name', 'signup_os', 'signup_channel', 'signup_date',\n",
       "       'bgc_date', 'vehicle_added_date', 'vehicle_make', 'vehicle_model',\n",
       "       'vehicle_year', 'first_completed_date', 'signup_os_flag',\n",
       "       'bgc_date_flag', 'vehicle_added_date_flag', 'vehicle_make_flag',\n",
       "       'signup_bgc_delta', 'signup_vehicle_delta', 'signup_day',\n",
       "       'signup_day_of_week', 'bgc_month', 'bgc_day', 'bgc_day_of_week',\n",
       "       'vehicle_added_month', 'vehicle_added_day', 'vehicle_added_day_of_week',\n",
       "       'luxury_vehicle', 'first_drive'],\n",
       "      dtype='object')"
      ]
     },
     "execution_count": 44,
     "metadata": {},
     "output_type": "execute_result"
    }
   ],
   "source": [
    "df.columns"
   ]
  },
  {
   "cell_type": "code",
   "execution_count": 46,
   "id": "0316892b",
   "metadata": {},
   "outputs": [],
   "source": [
    "columns =['vehicle_make', 'vehicle_model','vehicle_year','bgc_date_flag','vehicle_added_date_flag', \\\n",
    "           'signup_os_flag', 'vehicle_make_flag','signup_bgc_delta', 'signup_vehicle_delta',\\\n",
    "           'signup_day', 'signup_day_of_week', 'bgc_month', 'bgc_day','bgc_day_of_week', \\\n",
    "           'vehicle_added_month', 'vehicle_added_day','vehicle_added_day_of_week', 'luxury_vehicle']"
   ]
  },
  {
   "cell_type": "code",
   "execution_count": 47,
   "id": "4dd7a2de",
   "metadata": {},
   "outputs": [],
   "source": [
    "X = pd.concat([dum_city_name,dum_signup_os,dum_signup_channel,df[columns]],axis=1)\n",
    "y = df['first_drive']"
   ]
  },
  {
   "cell_type": "code",
   "execution_count": 48,
   "id": "c3506442",
   "metadata": {},
   "outputs": [
    {
     "data": {
      "text/html": [
       "<div>\n",
       "<style scoped>\n",
       "    .dataframe tbody tr th:only-of-type {\n",
       "        vertical-align: middle;\n",
       "    }\n",
       "\n",
       "    .dataframe tbody tr th {\n",
       "        vertical-align: top;\n",
       "    }\n",
       "\n",
       "    .dataframe thead th {\n",
       "        text-align: right;\n",
       "    }\n",
       "</style>\n",
       "<table border=\"1\" class=\"dataframe\">\n",
       "  <thead>\n",
       "    <tr style=\"text-align: right;\">\n",
       "      <th></th>\n",
       "      <th>Berton</th>\n",
       "      <th>Strark</th>\n",
       "      <th>Wrouver</th>\n",
       "      <th>android web</th>\n",
       "      <th>ios web</th>\n",
       "      <th>mac</th>\n",
       "      <th>other</th>\n",
       "      <th>windows</th>\n",
       "      <th>Organic</th>\n",
       "      <th>Paid</th>\n",
       "      <th>...</th>\n",
       "      <th>signup_vehicle_delta</th>\n",
       "      <th>signup_day</th>\n",
       "      <th>signup_day_of_week</th>\n",
       "      <th>bgc_month</th>\n",
       "      <th>bgc_day</th>\n",
       "      <th>bgc_day_of_week</th>\n",
       "      <th>vehicle_added_month</th>\n",
       "      <th>vehicle_added_day</th>\n",
       "      <th>vehicle_added_day_of_week</th>\n",
       "      <th>luxury_vehicle</th>\n",
       "    </tr>\n",
       "  </thead>\n",
       "  <tbody>\n",
       "    <tr>\n",
       "      <th>0</th>\n",
       "      <td>0</td>\n",
       "      <td>1</td>\n",
       "      <td>0</td>\n",
       "      <td>0</td>\n",
       "      <td>1</td>\n",
       "      <td>0</td>\n",
       "      <td>0</td>\n",
       "      <td>0</td>\n",
       "      <td>0</td>\n",
       "      <td>1</td>\n",
       "      <td>...</td>\n",
       "      <td>-1.0</td>\n",
       "      <td>2</td>\n",
       "      <td>5</td>\n",
       "      <td>-1.0</td>\n",
       "      <td>-1.0</td>\n",
       "      <td>-1.0</td>\n",
       "      <td>-1.0</td>\n",
       "      <td>-1.0</td>\n",
       "      <td>-1.0</td>\n",
       "      <td>-1</td>\n",
       "    </tr>\n",
       "    <tr>\n",
       "      <th>1</th>\n",
       "      <td>0</td>\n",
       "      <td>1</td>\n",
       "      <td>0</td>\n",
       "      <td>0</td>\n",
       "      <td>0</td>\n",
       "      <td>0</td>\n",
       "      <td>0</td>\n",
       "      <td>1</td>\n",
       "      <td>0</td>\n",
       "      <td>1</td>\n",
       "      <td>...</td>\n",
       "      <td>-1.0</td>\n",
       "      <td>21</td>\n",
       "      <td>3</td>\n",
       "      <td>-1.0</td>\n",
       "      <td>-1.0</td>\n",
       "      <td>-1.0</td>\n",
       "      <td>-1.0</td>\n",
       "      <td>-1.0</td>\n",
       "      <td>-1.0</td>\n",
       "      <td>-1</td>\n",
       "    </tr>\n",
       "    <tr>\n",
       "      <th>2</th>\n",
       "      <td>0</td>\n",
       "      <td>0</td>\n",
       "      <td>1</td>\n",
       "      <td>0</td>\n",
       "      <td>0</td>\n",
       "      <td>0</td>\n",
       "      <td>0</td>\n",
       "      <td>1</td>\n",
       "      <td>1</td>\n",
       "      <td>0</td>\n",
       "      <td>...</td>\n",
       "      <td>-1.0</td>\n",
       "      <td>11</td>\n",
       "      <td>0</td>\n",
       "      <td>1.0</td>\n",
       "      <td>11.0</td>\n",
       "      <td>0.0</td>\n",
       "      <td>-1.0</td>\n",
       "      <td>-1.0</td>\n",
       "      <td>-1.0</td>\n",
       "      <td>-1</td>\n",
       "    </tr>\n",
       "    <tr>\n",
       "      <th>3</th>\n",
       "      <td>1</td>\n",
       "      <td>0</td>\n",
       "      <td>0</td>\n",
       "      <td>1</td>\n",
       "      <td>0</td>\n",
       "      <td>0</td>\n",
       "      <td>0</td>\n",
       "      <td>0</td>\n",
       "      <td>0</td>\n",
       "      <td>0</td>\n",
       "      <td>...</td>\n",
       "      <td>5.0</td>\n",
       "      <td>29</td>\n",
       "      <td>4</td>\n",
       "      <td>2.0</td>\n",
       "      <td>3.0</td>\n",
       "      <td>2.0</td>\n",
       "      <td>2.0</td>\n",
       "      <td>3.0</td>\n",
       "      <td>2.0</td>\n",
       "      <td>0</td>\n",
       "    </tr>\n",
       "    <tr>\n",
       "      <th>4</th>\n",
       "      <td>0</td>\n",
       "      <td>1</td>\n",
       "      <td>0</td>\n",
       "      <td>1</td>\n",
       "      <td>0</td>\n",
       "      <td>0</td>\n",
       "      <td>0</td>\n",
       "      <td>0</td>\n",
       "      <td>0</td>\n",
       "      <td>0</td>\n",
       "      <td>...</td>\n",
       "      <td>16.0</td>\n",
       "      <td>10</td>\n",
       "      <td>6</td>\n",
       "      <td>1.0</td>\n",
       "      <td>25.0</td>\n",
       "      <td>0.0</td>\n",
       "      <td>1.0</td>\n",
       "      <td>26.0</td>\n",
       "      <td>1.0</td>\n",
       "      <td>0</td>\n",
       "    </tr>\n",
       "  </tbody>\n",
       "</table>\n",
       "<p>5 rows × 29 columns</p>\n",
       "</div>"
      ],
      "text/plain": [
       "   Berton  Strark  Wrouver  android web  ios web  mac  other  windows  \\\n",
       "0       0       1        0            0        1    0      0        0   \n",
       "1       0       1        0            0        0    0      0        1   \n",
       "2       0       0        1            0        0    0      0        1   \n",
       "3       1       0        0            1        0    0      0        0   \n",
       "4       0       1        0            1        0    0      0        0   \n",
       "\n",
       "   Organic  Paid  ...  signup_vehicle_delta  signup_day  signup_day_of_week  \\\n",
       "0        0     1  ...                  -1.0           2                   5   \n",
       "1        0     1  ...                  -1.0          21                   3   \n",
       "2        1     0  ...                  -1.0          11                   0   \n",
       "3        0     0  ...                   5.0          29                   4   \n",
       "4        0     0  ...                  16.0          10                   6   \n",
       "\n",
       "   bgc_month  bgc_day  bgc_day_of_week  vehicle_added_month  \\\n",
       "0       -1.0     -1.0             -1.0                 -1.0   \n",
       "1       -1.0     -1.0             -1.0                 -1.0   \n",
       "2        1.0     11.0              0.0                 -1.0   \n",
       "3        2.0      3.0              2.0                  2.0   \n",
       "4        1.0     25.0              0.0                  1.0   \n",
       "\n",
       "   vehicle_added_day  vehicle_added_day_of_week  luxury_vehicle  \n",
       "0               -1.0                       -1.0              -1  \n",
       "1               -1.0                       -1.0              -1  \n",
       "2               -1.0                       -1.0              -1  \n",
       "3                3.0                        2.0               0  \n",
       "4               26.0                        1.0               0  \n",
       "\n",
       "[5 rows x 29 columns]"
      ]
     },
     "execution_count": 48,
     "metadata": {},
     "output_type": "execute_result"
    }
   ],
   "source": [
    "X.head()"
   ]
  },
  {
   "cell_type": "markdown",
   "id": "0db2cf76",
   "metadata": {},
   "source": [
    "#### Scale and normalizing the matrix"
   ]
  },
  {
   "cell_type": "code",
   "execution_count": 49,
   "id": "d9846da9",
   "metadata": {},
   "outputs": [],
   "source": [
    "sc = StandardScaler()\n",
    "Xt = sc.fit_transform(X)"
   ]
  },
  {
   "cell_type": "code",
   "execution_count": 50,
   "id": "cdb74624",
   "metadata": {},
   "outputs": [
    {
     "data": {
      "text/plain": [
       "array([-0.7629035 ,  0.92196454, -0.31748574, -0.61324765,  1.51251394,\n",
       "       -0.34526081, -0.26736334, -0.37609389, -0.57050107,  1.13325904,\n",
       "       -0.68075571,  0.2332971 ,  0.25808672,  0.4634619 , -1.22883271,\n",
       "       -0.56224897,  0.37865537, -0.56475596, -0.67890136, -0.39842187,\n",
       "       -1.45890516,  1.05169642, -1.1718774 , -0.95209952, -0.96681697,\n",
       "       -0.54711426, -0.49041182, -0.48727457, -0.53813397])"
      ]
     },
     "execution_count": 50,
     "metadata": {},
     "output_type": "execute_result"
    }
   ],
   "source": [
    "Xt[0]"
   ]
  },
  {
   "cell_type": "markdown",
   "id": "d0d9c310",
   "metadata": {},
   "source": [
    "### Deciding on performance metrics :"
   ]
  },
  {
   "cell_type": "markdown",
   "id": "bce3999c",
   "metadata": {},
   "source": [
    "As this is a binary classification problem,some of the possible performace metrics we can consider are accuracy,precision,recall,f1 score and ROC AUC score"
   ]
  },
  {
   "cell_type": "markdown",
   "id": "c81c321c",
   "metadata": {},
   "source": [
    "Applying 5 fold cross validation to different classfication algorithms"
   ]
  },
  {
   "cell_type": "code",
   "execution_count": 41,
   "id": "e25c6cff",
   "metadata": {},
   "outputs": [],
   "source": [
    "def performance(cv,scoring):\n",
    "    \n",
    "    kn = KNeighborsClassifier()\n",
    "    s = cross_val_score(kn, Xt, y, cv=cv, scoring=scoring)\n",
    "    print(\"{} Score:\\t{:0.3} ± {:0.3}\".format(\"K Nearest Neighbors\", s.mean().round(3), s.std().round(3)))\n",
    "    \n",
    "    lr = LogisticRegression(class_weight='balanced',random_state=99)\n",
    "    s = cross_val_score(lr, Xt, y, cv=cv, scoring=scoring)\n",
    "    print(\"{} Score:\\t{:0.3} ± {:0.3}\".format(\"Logistic Regression\", s.mean().round(3), s.std().round(3)))\n",
    "\n",
    "    dt = DecisionTreeClassifier(class_weight='balanced',random_state=99)\n",
    "    s = cross_val_score(dt, Xt, y, cv=cv, scoring=scoring)\n",
    "    print(\"{} Score:\\t{:0.3} ± {:0.3}\".format(\"Decision Tree\", s.mean().round(3), s.std().round(3)))\n",
    "\n",
    "    rf = RandomForestClassifier(n_estimators=100,class_weight='balanced',random_state=99)\n",
    "    s = cross_val_score(rf, Xt, y, cv=cv, scoring=scoring)\n",
    "    print(\"{} Score:\\t{:0.3} ± {:0.3}\".format(\"Random Forest\", s.mean().round(3), s.std().round(3)))\n",
    "\n",
    "    gb = GradientBoostingClassifier(n_estimators=100,random_state=99)\n",
    "    s = cross_val_score(gb, Xt, y, cv=cv, scoring=scoring)\n",
    "    print(\"{} Score:\\t{:0.3} ± {:0.3}\".format(\"Gradient Boosting\", s.mean().round(3), s.std().round(3)))\n"
   ]
  },
  {
   "cell_type": "code",
   "execution_count": 42,
   "id": "63ddf5c3",
   "metadata": {},
   "outputs": [
    {
     "name": "stdout",
     "output_type": "stream",
     "text": [
      "Accuracy :\n",
      "K Nearest Neighbors Score:\t0.932 ± 0.002\n",
      "Logistic Regression Score:\t0.926 ± 0.002\n",
      "Decision Tree Score:\t0.915 ± 0.001\n",
      "Random Forest Score:\t0.938 ± 0.002\n",
      "Gradient Boosting Score:\t0.944 ± 0.001\n"
     ]
    }
   ],
   "source": [
    "cv = StratifiedKFold(n_splits=5,random_state=99, shuffle=True)\n",
    "scoring = 'accuracy'\n",
    "print(\"Accuracy :\")\n",
    "performance(cv,scoring)"
   ]
  },
  {
   "cell_type": "code",
   "execution_count": 43,
   "id": "4ca1f4ec",
   "metadata": {},
   "outputs": [
    {
     "name": "stdout",
     "output_type": "stream",
     "text": [
      "F1 score:\n",
      "K Nearest Neighbors Score:\t0.961 ± 0.001\n",
      "Logistic Regression Score:\t0.957 ± 0.001\n",
      "Decision Tree Score:\t0.952 ± 0.0\n",
      "Random Forest Score:\t0.965 ± 0.001\n",
      "Gradient Boosting Score:\t0.968 ± 0.001\n"
     ]
    }
   ],
   "source": [
    "scoring = 'f1'\n",
    "print(\"F1 score:\")\n",
    "performance(cv,scoring)"
   ]
  },
  {
   "cell_type": "code",
   "execution_count": 44,
   "id": "f7f5ac16",
   "metadata": {},
   "outputs": [
    {
     "name": "stdout",
     "output_type": "stream",
     "text": [
      "Precision :\n",
      "K Nearest Neighbors Score:\t0.967 ± 0.001\n",
      "Logistic Regression Score:\t0.992 ± 0.002\n",
      "Decision Tree Score:\t0.95 ± 0.001\n",
      "Random Forest Score:\t0.967 ± 0.001\n",
      "Gradient Boosting Score:\t0.974 ± 0.001\n"
     ]
    }
   ],
   "source": [
    "scoring = 'precision'\n",
    "print(\"Precision :\")\n",
    "performance(cv,scoring)"
   ]
  },
  {
   "cell_type": "code",
   "execution_count": 45,
   "id": "52432621",
   "metadata": {},
   "outputs": [
    {
     "name": "stdout",
     "output_type": "stream",
     "text": [
      "Recall :\n",
      "K Nearest Neighbors Score:\t0.955 ± 0.002\n",
      "Logistic Regression Score:\t0.924 ± 0.002\n",
      "Decision Tree Score:\t0.955 ± 0.002\n",
      "Random Forest Score:\t0.963 ± 0.002\n",
      "Gradient Boosting Score:\t0.963 ± 0.001\n"
     ]
    }
   ],
   "source": [
    "scoring = 'recall'\n",
    "print(\"Recall :\")\n",
    "performance(cv,scoring)"
   ]
  },
  {
   "cell_type": "markdown",
   "id": "a38e6d5d",
   "metadata": {},
   "source": [
    "### Observations :"
   ]
  },
  {
   "cell_type": "markdown",
   "id": "c207155e",
   "metadata": {},
   "source": [
    "Recall is appropriate evaluation metric"
   ]
  },
  {
   "cell_type": "markdown",
   "id": "39295999",
   "metadata": {},
   "source": [
    "1.Among 6 algorithms gradient boosting model performs well with all the performance metrics"
   ]
  },
  {
   "cell_type": "markdown",
   "id": "2062c61d",
   "metadata": {},
   "source": [
    "2.Recall is the best performance metric for this case. Based on the assumptions, recall tells us of all the applicants who actually signedup and did not complete their first trip as driver, what % of these applications did we correctly predict."
   ]
  },
  {
   "cell_type": "markdown",
   "id": "d4f9ce9f",
   "metadata": {},
   "source": [
    "3.By correctly predicting the drivers that are most likely to start driving,the company can take appropriate action by giving promotions,incentives and email campaigns"
   ]
  },
  {
   "cell_type": "markdown",
   "id": "be4b8146",
   "metadata": {},
   "source": [
    "4.In terms of recall, the random forest model performed equal to gradient boosting model so,if computational time and complexity are factors then random forest may be preferred."
   ]
  },
  {
   "cell_type": "markdown",
   "id": "9c5c3dc0",
   "metadata": {},
   "source": [
    "### Modelling :"
   ]
  },
  {
   "cell_type": "code",
   "execution_count": 55,
   "id": "e645b8b6",
   "metadata": {},
   "outputs": [],
   "source": [
    "X_train, X_test, y_train, y_test = train_test_split(Xt, y, test_size=0.20, random_state=99)"
   ]
  },
  {
   "cell_type": "code",
   "execution_count": 56,
   "id": "f9fa1f04",
   "metadata": {},
   "outputs": [],
   "source": [
    "gb = GradientBoostingClassifier(n_estimators=100,random_state=99)\n",
    "y_pred = gb.fit(X_train,y_train).predict(X_test)"
   ]
  },
  {
   "cell_type": "code",
   "execution_count": 57,
   "id": "14058d81",
   "metadata": {},
   "outputs": [
    {
     "name": "stdout",
     "output_type": "stream",
     "text": [
      "Gradient Boosting Classification Report \n",
      "\n",
      "              precision    recall  f1-score   support\n",
      "\n",
      "           0       0.74      0.81      0.78      1237\n",
      "           1       0.98      0.96      0.97      9700\n",
      "\n",
      "    accuracy                           0.95     10937\n",
      "   macro avg       0.86      0.89      0.87     10937\n",
      "weighted avg       0.95      0.95      0.95     10937\n",
      "\n",
      "\n",
      "Gradient Boosting Confusion Matrix \n",
      "\n",
      "                 predicted_driver  predicted_not_driver\n",
      "true_driver                  1008                   229\n",
      "true_not_driver               352                  9348\n"
     ]
    }
   ],
   "source": [
    "print('Gradient Boosting Classification Report \\n')\n",
    "print(classification_report(y_test, y_pred) + '\\n')\n",
    "print('Gradient Boosting Confusion Matrix \\n')\n",
    "confusion_matrix = np.array(confusion_matrix(y_test, y_pred))\n",
    "confusion = pd.DataFrame(confusion_matrix, index=['true_driver', 'true_not_driver'],columns=['predicted_driver','predicted_not_driver'])\n",
    "print(confusion)\n"
   ]
  },
  {
   "cell_type": "code",
   "execution_count": 58,
   "id": "813743e7",
   "metadata": {},
   "outputs": [],
   "source": [
    "features = pd.Series(gb.feature_importances_, index = pd.Series(X.columns).apply(lambda x: x.lower()))\n",
    "features.sort_values(ascending=True,inplace=True)"
   ]
  },
  {
   "cell_type": "code",
   "execution_count": 93,
   "id": "af37cb72",
   "metadata": {},
   "outputs": [
    {
     "data": {
      "image/png": "[encoded data removed]",
      "text/plain": [
       "<Figure size 864x720 with 1 Axes>"
      ]
     },
     "metadata": {},
     "output_type": "display_data"
    }
   ],
   "source": [
    "plt.style.use('ggplot')\n",
    "features.plot(kind = \"bar\", color='r', figsize=(12,10),fontsize=18)\n",
    "plt.xlabel('Importance',fontsize=18)\n",
    "plt.title(\"Feature Importance in Gradient Boosting Model\", fontsize=18);"
   ]
  },
  {
   "cell_type": "markdown",
   "id": "741b818a",
   "metadata": {},
   "source": [
    "#### Observation :"
   ]
  },
  {
   "cell_type": "markdown",
   "id": "c7939039",
   "metadata": {},
   "source": [
    "1. *signup_vehicle_delta* ,*vehicle_added_month* and *vehicle_added_day_of_week* are the key features"
   ]
  },
  {
   "cell_type": "markdown",
   "id": "8e6902a3",
   "metadata": {},
   "source": [
    "2. We can further improve the model performance by ensembling or stacking to better allow for generalization to the unseen data."
   ]
  },
  {
   "cell_type": "markdown",
   "id": "c7dfca44",
   "metadata": {},
   "source": [
    "3. I can further extend by applying XGBoost or LightGBM and they may have provide improvement in model performance."
   ]
  },
  {
   "cell_type": "markdown",
   "id": "9b60d279",
   "metadata": {},
   "source": [
    "4. Due to the time constraint,i intentionally ignored to use regularization techniques like Lasso and Ridge ."
   ]
  },
  {
   "cell_type": "markdown",
   "id": "451f7893",
   "metadata": {},
   "source": [
    "5. SelectKBest, RFECV(recursive feature elimination and cross-validated selection) can also be used to fine tune the hyper parameters which result in improved performace."
   ]
  },
  {
   "cell_type": "markdown",
   "id": "e9e54f67",
   "metadata": {},
   "source": [
    "5. Also all the models I used were straight out of the box with default values and no hyperparameter tuning was employed."
   ]
  },
  {
   "cell_type": "markdown",
   "id": "c9a8a2ea",
   "metadata": {},
   "source": [
    "  #### Question 3 - *Briefly discuss how we might leverage the insights gained from the model to generate more first trips "
   ]
  },
  {
   "cell_type": "code",
   "execution_count": 63,
   "id": "dfe341d9",
   "metadata": {},
   "outputs": [],
   "source": [
    "drivers_signups = df[df['first_drive'] == 0]['signup_vehicle_delta']\n",
    "not_drivers_signups = df[df['first_drive'] == 1]['signup_vehicle_delta']"
   ]
  },
  {
   "cell_type": "code",
   "execution_count": 89,
   "id": "bffc61e2",
   "metadata": {},
   "outputs": [
    {
     "data": {
      "text/plain": [
       "<AxesSubplot:title={'center':'Drivers Signups'}, xlabel='Days', ylabel='Count'>"
      ]
     },
     "execution_count": 89,
     "metadata": {},
     "output_type": "execute_result"
    },
    {
     "data": {
      "image/png": "[encoded data removed]",
      "text/plain": [
       "<Figure size 864x720 with 1 Axes>"
      ]
     },
     "metadata": {},
     "output_type": "display_data"
    }
   ],
   "source": [
    "drivers_signups.value_counts().plot(kind='bar', figsize=(12,10),xlabel='Days',ylabel='Count', legend=True, title='Drivers Signups')"
   ]
  },
  {
   "cell_type": "code",
   "execution_count": 92,
   "id": "e2d0bb71",
   "metadata": {},
   "outputs": [
    {
     "data": {
      "text/plain": [
       "<AxesSubplot:title={'center':'Drivers with no Signups'}, xlabel='Days', ylabel='Count'>"
      ]
     },
     "execution_count": 92,
     "metadata": {},
     "output_type": "execute_result"
    },
    {
     "data": {
      "image/png": "[encoded data removed]",
      "text/plain": [
       "<Figure size 1152x720 with 1 Axes>"
      ]
     },
     "metadata": {},
     "output_type": "display_data"
    }
   ],
   "source": [
    "not_drivers_signups.value_counts().plot(kind='bar', figsize=(16,10),xlabel='Days',ylabel='Count', legend=True, title='Drivers with no Signups')"
   ]
  },
  {
   "cell_type": "markdown",
   "id": "cfbf2d62",
   "metadata": {},
   "source": [
    "1. Drivers who did not complete the vehicle registration with in 30 days of signup are most likely never take up their first trip as  a driver."
   ]
  },
  {
   "cell_type": "markdown",
   "id": "9c708742",
   "metadata": {},
   "source": [
    "2. We can leverage on the model to identify these users and provide additional assistance to complete their vehicle registration "
   ]
  },
  {
   "cell_type": "markdown",
   "id": "78855417",
   "metadata": {},
   "source": [
    "3. Service provider can also offer perks to encorage the drivers to register their vehicles as soon as they signup. "
   ]
  }
 ],
 "metadata": {
  "kernelspec": {
   "display_name": "Python 3 (ipykernel)",
   "language": "python",
   "name": "python3"
  },
  "language_info": {
   "codemirror_mode": {
    "name": "ipython",
    "version": 3
   },
   "file_extension": ".py",
   "mimetype": "text/x-python",
   "name": "python",
   "nbconvert_exporter": "python",
   "pygments_lexer": "ipython3",
   "version": "3.9.7"
  }
 },
 "nbformat": 4,
 "nbformat_minor": 5
}
